{
 "cells": [
  {
   "cell_type": "markdown",
   "metadata": {},
   "source": [
    "# Project Description"
   ]
  },
  {
   "cell_type": "markdown",
   "metadata": {},
   "source": [
    "Decision theory in economics settles in an important area of describing real people choices.\n",
    "There have been done a lot of studuies and developed many theories about this issue\n",
    "This project focuses on describing the functionality of fundamental theories in decision theory\n",
    "\n",
    "Basically, Decision Theory involves making choices between so called lotteries.\n",
    "There exist a branch of decision theory called expected utility theory.\n",
    "\n",
    "According to Wikipedia: \"In expected utility theory, a lottery is a discrete distribution of probability on a set of\n",
    "states of nature. The elements of a lottery correspond to the probabilities that each of the states of nature will occur.\n",
    "Much of the theoretical analysis of choice under uncertainty involves characterizing the available choices\n",
    "in terms of lotteries.\"\n",
    "In this project I will use lotteries as the representetives of choices, where the outcomes are represented by dollar amounts of money.\n",
    "\n",
    "In the basic decision theory there was developed a few methods of choosing between lotteries.\n",
    "Here I describe those methods I will use in my project.\n"
   ]
  },
  {
   "cell_type": "markdown",
   "metadata": {},
   "source": [
    "__Maximax Choice__ "
   ]
  },
  {
   "cell_type": "markdown",
   "metadata": {},
   "source": [
    "Given two lotteries an individual whose behaviour could be described by maximax choice would choose the lottery where the maximum possible payout is larger."
   ]
  },
  {
   "cell_type": "markdown",
   "metadata": {},
   "source": [
    "__Minimax Choice__"
   ]
  },
  {
   "cell_type": "markdown",
   "metadata": {},
   "source": [
    "Given two lotteries an individual whose behaviour could be described by maximax choice would choose the lottery where the minimum possible payout is larger."
   ]
  },
  {
   "cell_type": "markdown",
   "metadata": {},
   "source": [
    "__First Order Stochastic Dominance(FOSD)__"
   ]
  },
  {
   "cell_type": "markdown",
   "metadata": {},
   "source": [
    "Given two lotteries A and B it is said that A first order stochastically dominates B (A FOSD B) if the cumulative probability function of A [$F_{A}(x)$] is lower than or equal to cumulative probability function of B [$F_{B}(x)$] for all x. "
   ]
  },
  {
   "cell_type": "markdown",
   "metadata": {},
   "source": [
    "__Mean Preserving Spread__"
   ]
  },
  {
   "cell_type": "markdown",
   "metadata": {},
   "source": [
    "Having a choice between any two lotteries _with equal expected values_ any rational _risk averse_ individual should choose the lottery with less spread probability mass function(i.e. with lower variance)."
   ]
  },
  {
   "cell_type": "markdown",
   "metadata": {},
   "source": [
    "-----------------------------------------"
   ]
  },
  {
   "cell_type": "markdown",
   "metadata": {},
   "source": [
    "The project focuses on comparing lotteries using the methods described above. One of the comparisons comes from so called Allais Paradox. It is called paradox, because given the settings of this paradox real people tend make choices that are not supported by expected utility maximization theory. I will show in my project that maximax and minimax criteria are poor at describing Allais paradox(in fact, these methods are rarely able to explain real people choices).\n",
    "\n",
    "Allais paradox - paradox, which shows that most of the people are not expected utility maximizers.\n",
    "Given 4 lotteries: \n",
    "\n",
    "A1 = {1million : 100%}\n",
    "\n",
    "A2 = {0 : 1%; 1million : 89%; 5million : 10%}\n",
    "\n",
    "B1 = {0 : 89%; 1million : 11%}\n",
    "\n",
    "B2 = {0 : 90%; 5million : 10%}\n",
    "\n",
    "Majority of people simultaneously prefer A1 to A2 and B2 to B1, this is violation of expected utility theory.\n",
    "\n",
    "\n",
    "Also, it is considered that any rational individual should prefer lottery A to lottery B if A first order stochastically dominates B(this individual does not need to be an expected utility maximizer). I will also show in my project the preferences between lotteries with underlying FOSD condition.\n",
    "\n",
    "\n",
    "Additionally, it is stated in decision theory that all rational __risk averse__ individuals would choose less spread lottery when comparing two lotteries with the same expected value. I will also show this preference using mean preserving spread method."
   ]
  },
  {
   "cell_type": "markdown",
   "metadata": {},
   "source": [
    "__Detailed description of applications of previously described methods together with lotteries initializations is given in the script file__"
   ]
  },
  {
   "cell_type": "code",
   "execution_count": null,
   "metadata": {},
   "outputs": [],
   "source": []
  }
 ],
 "metadata": {
  "kernelspec": {
   "display_name": "Python 3",
   "language": "python",
   "name": "python3"
  },
  "language_info": {
   "codemirror_mode": {
    "name": "ipython",
    "version": 3
   },
   "file_extension": ".py",
   "mimetype": "text/x-python",
   "name": "python",
   "nbconvert_exporter": "python",
   "pygments_lexer": "ipython3",
   "version": "3.7.0"
  }
 },
 "nbformat": 4,
 "nbformat_minor": 2
}
